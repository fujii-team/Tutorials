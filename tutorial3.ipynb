{
 "cells": [
  {
   "cell_type": "markdown",
   "metadata": {},
   "source": [
    "# Note\n",
    "\n",
    "1.　関数\n",
    "\n",
    "2.　科学計算ライブラリScipy"
   ]
  },
  {
   "cell_type": "markdown",
   "metadata": {},
   "source": [
    "# 関数\n",
    "\n",
    "関数は以下のようにして定義する"
   ]
  },
  {
   "cell_type": "markdown",
   "metadata": {},
   "source": [
    "## 関数の例\n",
    "\n",
    "$\\sin^2(x)$ を返す関数を定義する。"
   ]
  },
  {
   "cell_type": "code",
   "execution_count": 1,
   "metadata": {
    "ExecuteTime": {
     "end_time": "2016-04-14T18:06:11.631499",
     "start_time": "2016-04-14T18:06:11.575091"
    },
    "collapsed": true
   },
   "outputs": [],
   "source": [
    "import numpy as np\n",
    "\n",
    "def sin_square(x):\n",
    "    sin = np.sin(x)\n",
    "    sin2 = sin*sin\n",
    "    return sin2"
   ]
  },
  {
   "cell_type": "code",
   "execution_count": 2,
   "metadata": {
    "ExecuteTime": {
     "end_time": "2016-04-14T18:07:35.308000",
     "start_time": "2016-04-14T18:07:35.139140"
    },
    "collapsed": false
   },
   "outputs": [
    {
     "data": {
      "text/plain": [
       "[<matplotlib.lines.Line2D at 0x7f97af8b4c10>]"
      ]
     },
     "execution_count": 2,
     "metadata": {},
     "output_type": "execute_result"
    },
    {
     "data": {
      "image/png": "[encoded data removed]",
      "text/plain": [
       "<matplotlib.figure.Figure at 0x7f97b6606690>"
      ]
     },
     "metadata": {},
     "output_type": "display_data"
    }
   ],
   "source": [
    "import matplotlib.pylab as plt\n",
    "%matplotlib inline\n",
    "\n",
    "x = np.arange(0, 6, 0.1)\n",
    "\n",
    "# for ループを一行で書く方法\n",
    "y = [sin_square(x1) for x1 in x]\n",
    "\n",
    "plt.plot(x, y)"
   ]
  },
  {
   "cell_type": "markdown",
   "metadata": {},
   "source": [
    "## 宿題1 - Lorentz 関数を返す関数 - \n",
    "\n",
    "以下のLorentz関数 \n",
    "$$\n",
    "L(x| A, x_0, \\gamma) = A\\frac{\\gamma}{1 + \\left(\\frac{x-x_0}{\\gamma}\\right)^2}\n",
    "$$\n",
    "を作って描画する"
   ]
  },
  {
   "cell_type": "code",
   "execution_count": 3,
   "metadata": {
    "collapsed": false
   },
   "outputs": [
    {
     "data": {
      "text/plain": [
       "[<matplotlib.lines.Line2D at 0x7f97af32c890>]"
      ]
     },
     "execution_count": 3,
     "metadata": {},
     "output_type": "execute_result"
    },
    {
     "data": {
      "image/png": "[encoded data removed]",
      "text/plain": [
       "<matplotlib.figure.Figure at 0x7f97d83a0d10>"
      ]
     },
     "metadata": {},
     "output_type": "display_data"
    }
   ],
   "source": [
    "def Lorentz_res(x):\n",
    "    A = 1\n",
    "    x0 = 1\n",
    "    gamma = 1\n",
    "    y0 = 1\n",
    "    \n",
    "    return  A * gamma / (1.0 + ((x-x0)/gamma)**2.0)\n",
    "x = np.arange(-6, 6, 0.1)\n",
    "y = Lorentz_res(x)\n",
    "\n",
    "plt.plot(x, y)"
   ]
  },
  {
   "cell_type": "markdown",
   "metadata": {},
   "source": [
    "# Scipy\n",
    "\n",
    "科学計算で使う機能を提供するライブラリ。\n",
    "\n",
    "ここでは、最小二乗近似(scipy.optimize.leastsq)、最小化（scipy.optimize.minimize）を使ってみる。\n",
    "\n",
    "仕様（\n",
    "\n",
    "http://docs.scipy.org/doc/scipy-0.14.0/reference/generated/scipy.optimize.leastsq.html\n",
    "\n",
    "http://docs.scipy.org/doc/scipy-0.17.0/reference/generated/scipy.optimize.minimize.html\n",
    "\n",
    "）を参照すること。\n"
   ]
  },
  {
   "cell_type": "code",
   "execution_count": 4,
   "metadata": {
    "ExecuteTime": {
     "end_time": "2016-04-14T18:13:40.033727",
     "start_time": "2016-04-14T18:13:40.025845"
    },
    "collapsed": true
   },
   "outputs": [],
   "source": [
    "# ライブラリのインポート\n",
    "import scipy.optimize"
   ]
  },
  {
   "cell_type": "markdown",
   "metadata": {},
   "source": [
    "## テストデータの読み込み・描画\n",
    "\n",
    "ファイル\n",
    "tutorial3_files/x_lorentz.txt\n",
    "tutorial3_files/y_lorentz.txt\n",
    "を読み込む。\n",
    "それぞれ、コンマで区切られたテキストファイルである。"
   ]
  },
  {
   "cell_type": "code",
   "execution_count": 5,
   "metadata": {
    "collapsed": false
   },
   "outputs": [],
   "source": [
    "# データの読み込み\n",
    "x_lorentz = np.loadtxt(\"tutorial3_files/x_lorentz.txt\")\n",
    "y_lorentz = np.loadtxt(\"tutorial3_files/y_lorentz.txt\")"
   ]
  },
  {
   "cell_type": "code",
   "execution_count": 6,
   "metadata": {
    "ExecuteTime": {
     "end_time": "2016-04-14T18:14:24.076595",
     "start_time": "2016-04-14T18:14:24.073992"
    },
    "collapsed": false
   },
   "outputs": [
    {
     "data": {
      "text/plain": [
       "[<matplotlib.lines.Line2D at 0x7f97a9880b10>]"
      ]
     },
     "execution_count": 6,
     "metadata": {},
     "output_type": "execute_result"
    },
    {
     "data": {
      "image/png": "[encoded data removed]",
      "text/plain": [
       "<matplotlib.figure.Figure at 0x7f97a9f25d10>"
      ]
     },
     "metadata": {},
     "output_type": "display_data"
    }
   ],
   "source": [
    "# 描画\n",
    "plt.plot(x_lorentz, y_lorentz, 'o')"
   ]
  },
  {
   "cell_type": "markdown",
   "metadata": {},
   "source": [
    "## scipy.optimize.leastsq を用いたフィッティング\n",
    "\n",
    "http://docs.scipy.org/doc/scipy-0.14.0/reference/generated/scipy.optimize.leastsq.html\n",
    "\n",
    "http://www2.kaiyodai.ac.jp/~kentaro/materials/new_HP/python/15fit_data3.html\n",
    "\n",
    "などを参考にする。\n",
    "\n",
    "まず、各xにおいて、近似値（Lorentz関数）と計測データ（上記の青丸データ）の差をnp.arrayで返す関数を定義する。"
   ]
  },
  {
   "cell_type": "code",
   "execution_count": 26,
   "metadata": {
    "collapsed": false
   },
   "outputs": [],
   "source": [
    "# parameters : 求めたいパラメータ。今回の場合はLorentz関数の形を定義する A， x０，γ とオフセットy0\n",
    "def Lorentz_res(parameters, x, y):\n",
    "    A = parameters[0]\n",
    "    x0 = parameters[1]\n",
    "    gamma = parameters[2]\n",
    "    y0 = parameters[3]\n",
    "    \n",
    "    return y - (np.ones(len(x)) * y0 + A * gamma / (1.0 + ((x-np.ones(len(x))*x0)/gamma)**2.0))"
   ]
  },
  {
   "cell_type": "markdown",
   "metadata": {},
   "source": [
    "パラメータの初期値を指定する"
   ]
  },
  {
   "cell_type": "code",
   "execution_count": 27,
   "metadata": {
    "collapsed": true
   },
   "outputs": [],
   "source": [
    "param_init = [1.0, 0.1, 0.4, 0.1]"
   ]
  },
  {
   "cell_type": "markdown",
   "metadata": {},
   "source": [
    "フィッティングを実行する"
   ]
  },
  {
   "cell_type": "code",
   "execution_count": 28,
   "metadata": {
    "collapsed": true
   },
   "outputs": [],
   "source": [
    "result = scipy.optimize.leastsq(Lorentz_res,param_init,args=(x_lorentz,y_lorentz))"
   ]
  },
  {
   "cell_type": "code",
   "execution_count": 29,
   "metadata": {
    "collapsed": false
   },
   "outputs": [
    {
     "data": {
      "text/plain": [
       "(array([ 2.18669214, -0.00855874,  0.44299388,  0.01660112]), 1)"
      ]
     },
     "execution_count": 29,
     "metadata": {},
     "output_type": "execute_result"
    }
   ],
   "source": [
    "result"
   ]
  },
  {
   "cell_type": "code",
   "execution_count": 32,
   "metadata": {
    "collapsed": false
   },
   "outputs": [],
   "source": [
    "A = result[0][0]\n",
    "x0 = result[0][1]\n",
    "gamma = result[0][2]\n",
    "y0 = result[0][3]\n",
    "\n",
    "y_fit = (y0 + A * gamma / (1.0 + ((x_lorentz-x0)/gamma)**2.0))"
   ]
  },
  {
   "cell_type": "code",
   "execution_count": 33,
   "metadata": {
    "collapsed": false
   },
   "outputs": [
    {
     "data": {
      "text/plain": [
       "<matplotlib.legend.Legend at 0x7f97a9336950>"
      ]
     },
     "execution_count": 33,
     "metadata": {},
     "output_type": "execute_result"
    },
    {
     "data": {
      "image/png": "[encoded data removed]",
      "text/plain": [
       "<matplotlib.figure.Figure at 0x7f97a93d43d0>"
      ]
     },
     "metadata": {},
     "output_type": "display_data"
    }
   ],
   "source": [
    "# 描画\n",
    "plt.plot(x_lorentz, y_lorentz, 'o', label=\"observed\")\n",
    "plt.plot(x_lorentz, y_fit, 'r', alpha=0.5, linewidth=4.0, label=\"fitted\")\n",
    "plt.legend()"
   ]
  },
  {
   "cell_type": "markdown",
   "metadata": {},
   "source": [
    "## 宿題2\n",
    "\n",
    "データ\n",
    "\n",
    "tutorial3_files/x_gauss.txt\n",
    "\n",
    "tutorial3_files/y_gauss.txt\n",
    "\n",
    "をガウス関数\n",
    "$$\n",
    "{\\mathcal G}(x | A, x_0, \\sigma, y_0) = y_0 + \\frac{A}{\\sqrt{2\\pi \\sigma^2}} \\exp\\left( -\\frac{(x-x_0)^2}{2w^2}\\right)\n",
    "$$\n",
    "でフィッティングする。\n",
    "\n",
    "今回は、\n",
    "\n",
    "http://docs.scipy.org/doc/scipy-0.17.0/reference/generated/scipy.optimize.minimize.html\n",
    "\n",
    "http://oppython.hatenablog.com/entry/2015/09/28/222920\n",
    "\n",
    "などを参考にして\n",
    "scipy.optimize.minimize\n",
    "を使ってデータを最も再現する$A, x_0, \\sigma, y_0$ を求める。\n",
    "\n",
    "\n",
    "フィッティング曲線と、データ点を描画するとともに、グラフ内に\n",
    "求めた\n",
    "$A, x_0, \\sigma, y_0$\n",
    "を記載する。"
   ]
  },
  {
   "cell_type": "code",
   "execution_count": 14,
   "metadata": {
    "collapsed": false
   },
   "outputs": [
    {
     "data": {
      "text/plain": [
       "[<matplotlib.lines.Line2D at 0x7f97a95fcc50>]"
      ]
     },
     "execution_count": 14,
     "metadata": {},
     "output_type": "execute_result"
    },
    {
     "data": {
      "image/png": "[encoded data removed]",
      "text/plain": [
       "<matplotlib.figure.Figure at 0x7f97a95a14d0>"
      ]
     },
     "metadata": {},
     "output_type": "display_data"
    }
   ],
   "source": [
    "x_gauss = np.loadtxt(\"tutorial3_files/x_gauss.txt\")\n",
    "y_gauss = np.loadtxt(\"tutorial3_files/y_gauss.txt\")\n",
    "plt.plot(x_gauss, y_gauss, 'o')"
   ]
  },
  {
   "cell_type": "code",
   "execution_count": 34,
   "metadata": {
    "collapsed": true
   },
   "outputs": [],
   "source": [
    "def gauss(x, A, x0, sigma, y0):\n",
    "    return y0 + A * np.exp(-(x-x0)**2/2/sigma**2)/np.sqrt(2*np.pi*sigma**2)"
   ]
  },
  {
   "cell_type": "code",
   "execution_count": 35,
   "metadata": {
    "collapsed": true
   },
   "outputs": [],
   "source": [
    "def gauss_res(parameters, x, y):\n",
    "    A = parameters[0]\n",
    "    x0 = parameters[1]\n",
    "    sigma = parameters[2]\n",
    "    y0 = parameters[3]    \n",
    "    return np.sum(np.square(y -gauss(x, A, x0, sigma, y0)))"
   ]
  },
  {
   "cell_type": "code",
   "execution_count": 36,
   "metadata": {
    "collapsed": true
   },
   "outputs": [],
   "source": [
    "param_init = [1.0, 0.1, 0.4, 0.1,0.1]"
   ]
  },
  {
   "cell_type": "code",
   "execution_count": 37,
   "metadata": {
    "collapsed": false
   },
   "outputs": [
    {
     "data": {
      "text/plain": [
       "1.9202835055048979"
      ]
     },
     "execution_count": 37,
     "metadata": {},
     "output_type": "execute_result"
    }
   ],
   "source": [
    "gauss_res(param_init, x_gauss, y_gauss)"
   ]
  },
  {
   "cell_type": "code",
   "execution_count": 38,
   "metadata": {
    "collapsed": false
   },
   "outputs": [
    {
     "data": {
      "text/plain": [
       "      fun: 0.32082664256511895\n",
       " hess_inv: array([[  1.54225572e-01,   3.55703983e-04,   4.01148196e-02,\n",
       "         -2.59155448e-02,   0.00000000e+00],\n",
       "       [  3.55703983e-04,   1.65085929e-02,   2.29696339e-04,\n",
       "          9.07708431e-05,   0.00000000e+00],\n",
       "       [  4.01148196e-02,   2.29696339e-04,   2.11639765e-02,\n",
       "         -6.75867172e-03,   0.00000000e+00],\n",
       "       [ -2.59155448e-02,   9.07708431e-05,  -6.75867172e-03,\n",
       "          8.51471202e-03,   0.00000000e+00],\n",
       "       [  0.00000000e+00,   0.00000000e+00,   0.00000000e+00,\n",
       "          0.00000000e+00,   1.00000000e+00]])\n",
       "      jac: array([  5.36441803e-07,  -1.52736902e-07,  -2.23517418e-07,\n",
       "         4.91738319e-07,   0.00000000e+00])\n",
       "  message: 'Optimization terminated successfully.'\n",
       "     nfev: 98\n",
       "      nit: 10\n",
       "     njev: 14\n",
       "   status: 0\n",
       "  success: True\n",
       "        x: array([  1.49461571e+00,   2.00574061e-01,   5.93345626e-01,\n",
       "         7.29379155e-04,   1.00000000e-01])"
      ]
     },
     "execution_count": 38,
     "metadata": {},
     "output_type": "execute_result"
    }
   ],
   "source": [
    "result = scipy.optimize.minimize(gauss_res,param_init,args=(x_gauss,y_gauss))\n",
    "result"
   ]
  },
  {
   "cell_type": "code",
   "execution_count": 41,
   "metadata": {
    "collapsed": false
   },
   "outputs": [
    {
     "data": {
      "text/plain": [
       "array([  1.49461571e+00,   2.00574061e-01,   5.93345626e-01,\n",
       "         7.29379155e-04,   1.00000000e-01])"
      ]
     },
     "execution_count": 41,
     "metadata": {},
     "output_type": "execute_result"
    }
   ],
   "source": [
    "result['x']"
   ]
  },
  {
   "cell_type": "code",
   "execution_count": 42,
   "metadata": {
    "collapsed": false
   },
   "outputs": [
    {
     "data": {
      "text/plain": [
       "<matplotlib.legend.Legend at 0x7f97a921e410>"
      ]
     },
     "execution_count": 42,
     "metadata": {},
     "output_type": "execute_result"
    },
    {
     "data": {
      "image/png": "[encoded data removed]",
      "text/plain": [
       "<matplotlib.figure.Figure at 0x7f97a9300590>"
      ]
     },
     "metadata": {},
     "output_type": "display_data"
    }
   ],
   "source": [
    "y_fit = gauss(x_gauss, result['x'][0], result['x'][1], result['x'][2], result['x'][3])\n",
    "plt.plot(x_gauss, y_gauss, 'o', label=\"observed\")\n",
    "plt.plot(x_gauss, y_fit, 'r', alpha=0.5, linewidth=4.0, label=\"fitted\")\n",
    "plt.legend()"
   ]
  },
  {
   "cell_type": "code",
   "execution_count": 13,
   "metadata": {
    "collapsed": false
   },
   "outputs": [
    {
     "ename": "ValueError",
     "evalue": "setting an array element with a sequence.",
     "output_type": "error",
     "traceback": [
      "\u001b[1;31m---------------------------------------------------------------------------\u001b[0m",
      "\u001b[1;31mValueError\u001b[0m                                Traceback (most recent call last)",
      "\u001b[1;32m<ipython-input-13-199c97d30bb4>\u001b[0m in \u001b[0;36m<module>\u001b[1;34m()\u001b[0m\n\u001b[0;32m     10\u001b[0m     \u001b[1;32mreturn\u001b[0m \u001b[1;33m(\u001b[0m\u001b[0my_gauss\u001b[0m \u001b[1;33m-\u001b[0m\u001b[1;33m(\u001b[0m\u001b[0mnp\u001b[0m\u001b[1;33m.\u001b[0m\u001b[0mones\u001b[0m\u001b[1;33m(\u001b[0m\u001b[0mlen\u001b[0m\u001b[1;33m(\u001b[0m\u001b[0mx_gauss\u001b[0m\u001b[1;33m)\u001b[0m\u001b[1;33m)\u001b[0m \u001b[1;33m*\u001b[0m \u001b[0my0\u001b[0m \u001b[1;33m+\u001b[0m \u001b[0mA\u001b[0m \u001b[1;33m*\u001b[0m \u001b[0mnp\u001b[0m\u001b[1;33m.\u001b[0m\u001b[0mexp\u001b[0m\u001b[1;33m(\u001b[0m\u001b[1;33m-\u001b[0m\u001b[1;33m(\u001b[0m\u001b[0mx_gauss\u001b[0m\u001b[1;33m-\u001b[0m\u001b[0mnp\u001b[0m\u001b[1;33m.\u001b[0m\u001b[0mones\u001b[0m\u001b[1;33m(\u001b[0m\u001b[0mlen\u001b[0m\u001b[1;33m(\u001b[0m\u001b[0mx_gauss\u001b[0m\u001b[1;33m)\u001b[0m\u001b[1;33m)\u001b[0m\u001b[1;33m*\u001b[0m\u001b[0mx0\u001b[0m\u001b[1;33m)\u001b[0m\u001b[1;33m**\u001b[0m\u001b[1;36m2\u001b[0m\u001b[1;33m/\u001b[0m\u001b[1;36m2\u001b[0m\u001b[1;33m/\u001b[0m\u001b[0msigma\u001b[0m\u001b[1;33m**\u001b[0m\u001b[1;36m2\u001b[0m\u001b[1;33m)\u001b[0m\u001b[1;33m/\u001b[0m\u001b[0mnp\u001b[0m\u001b[1;33m.\u001b[0m\u001b[0msqrt\u001b[0m\u001b[1;33m(\u001b[0m\u001b[1;36m2\u001b[0m\u001b[1;33m*\u001b[0m\u001b[0mnp\u001b[0m\u001b[1;33m.\u001b[0m\u001b[0mpi\u001b[0m\u001b[1;33m*\u001b[0m\u001b[0msigma\u001b[0m\u001b[1;33m**\u001b[0m\u001b[1;36m2\u001b[0m\u001b[1;33m)\u001b[0m\u001b[1;33m)\u001b[0m\u001b[1;33m)\u001b[0m\u001b[1;33m**\u001b[0m\u001b[1;36m2\u001b[0m\u001b[1;33m\u001b[0m\u001b[0m\n\u001b[0;32m     11\u001b[0m \u001b[0mparam_init\u001b[0m \u001b[1;33m=\u001b[0m \u001b[1;33m[\u001b[0m\u001b[1;36m1.0\u001b[0m\u001b[1;33m,\u001b[0m \u001b[1;36m0\u001b[0m\u001b[1;33m,\u001b[0m \u001b[1;36m0.4\u001b[0m\u001b[1;33m,\u001b[0m \u001b[1;36m1.0\u001b[0m\u001b[1;33m]\u001b[0m\u001b[1;33m\u001b[0m\u001b[0m\n\u001b[1;32m---> 12\u001b[1;33m \u001b[0mresult\u001b[0m \u001b[1;33m=\u001b[0m \u001b[0mminimize\u001b[0m\u001b[1;33m(\u001b[0m\u001b[0mgauss_res\u001b[0m\u001b[1;33m,\u001b[0m\u001b[0mparam_init\u001b[0m\u001b[1;33m,\u001b[0m\u001b[0margs\u001b[0m\u001b[1;33m=\u001b[0m\u001b[1;33m(\u001b[0m\u001b[0mx_gauss\u001b[0m\u001b[1;33m,\u001b[0m\u001b[0my_gauss\u001b[0m\u001b[1;33m)\u001b[0m\u001b[1;33m,\u001b[0m\u001b[0mmethod\u001b[0m\u001b[1;33m=\u001b[0m\u001b[1;34m\"nelder-mead\"\u001b[0m\u001b[1;33m)\u001b[0m\u001b[1;33m\u001b[0m\u001b[0m\n\u001b[0m\u001b[0;32m     13\u001b[0m \u001b[0mresult\u001b[0m\u001b[1;33m\u001b[0m\u001b[0m\n\u001b[0;32m     14\u001b[0m \u001b[0mA\u001b[0m \u001b[1;33m=\u001b[0m \u001b[0mresult\u001b[0m\u001b[1;33m[\u001b[0m\u001b[1;36m0\u001b[0m\u001b[1;33m]\u001b[0m\u001b[1;33m[\u001b[0m\u001b[1;36m0\u001b[0m\u001b[1;33m]\u001b[0m\u001b[1;33m\u001b[0m\u001b[0m\n",
      "\u001b[1;32m/home/shirouzu/anaconda2/lib/python2.7/site-packages/scipy/optimize/_minimize.pyc\u001b[0m in \u001b[0;36mminimize\u001b[1;34m(fun, x0, args, method, jac, hess, hessp, bounds, constraints, tol, callback, options)\u001b[0m\n\u001b[0;32m    433\u001b[0m                       callback=callback, **options)\n\u001b[0;32m    434\u001b[0m     \u001b[1;32melif\u001b[0m \u001b[0mmeth\u001b[0m \u001b[1;33m==\u001b[0m \u001b[1;34m'nelder-mead'\u001b[0m\u001b[1;33m:\u001b[0m\u001b[1;33m\u001b[0m\u001b[0m\n\u001b[1;32m--> 435\u001b[1;33m         \u001b[1;32mreturn\u001b[0m \u001b[0m_minimize_neldermead\u001b[0m\u001b[1;33m(\u001b[0m\u001b[0mfun\u001b[0m\u001b[1;33m,\u001b[0m \u001b[0mx0\u001b[0m\u001b[1;33m,\u001b[0m \u001b[0margs\u001b[0m\u001b[1;33m,\u001b[0m \u001b[0mcallback\u001b[0m\u001b[1;33m,\u001b[0m \u001b[1;33m**\u001b[0m\u001b[0moptions\u001b[0m\u001b[1;33m)\u001b[0m\u001b[1;33m\u001b[0m\u001b[0m\n\u001b[0m\u001b[0;32m    436\u001b[0m     \u001b[1;32melif\u001b[0m \u001b[0mmeth\u001b[0m \u001b[1;33m==\u001b[0m \u001b[1;34m'powell'\u001b[0m\u001b[1;33m:\u001b[0m\u001b[1;33m\u001b[0m\u001b[0m\n\u001b[0;32m    437\u001b[0m         \u001b[1;32mreturn\u001b[0m \u001b[0m_minimize_powell\u001b[0m\u001b[1;33m(\u001b[0m\u001b[0mfun\u001b[0m\u001b[1;33m,\u001b[0m \u001b[0mx0\u001b[0m\u001b[1;33m,\u001b[0m \u001b[0margs\u001b[0m\u001b[1;33m,\u001b[0m \u001b[0mcallback\u001b[0m\u001b[1;33m,\u001b[0m \u001b[1;33m**\u001b[0m\u001b[0moptions\u001b[0m\u001b[1;33m)\u001b[0m\u001b[1;33m\u001b[0m\u001b[0m\n",
      "\u001b[1;32m/home/shirouzu/anaconda2/lib/python2.7/site-packages/scipy/optimize/optimize.pyc\u001b[0m in \u001b[0;36m_minimize_neldermead\u001b[1;34m(func, x0, args, callback, xtol, ftol, maxiter, maxfev, disp, return_all, **unknown_options)\u001b[0m\n\u001b[0;32m    437\u001b[0m     \u001b[1;32mif\u001b[0m \u001b[0mretall\u001b[0m\u001b[1;33m:\u001b[0m\u001b[1;33m\u001b[0m\u001b[0m\n\u001b[0;32m    438\u001b[0m         \u001b[0mallvecs\u001b[0m \u001b[1;33m=\u001b[0m \u001b[1;33m[\u001b[0m\u001b[0msim\u001b[0m\u001b[1;33m[\u001b[0m\u001b[1;36m0\u001b[0m\u001b[1;33m]\u001b[0m\u001b[1;33m]\u001b[0m\u001b[1;33m\u001b[0m\u001b[0m\n\u001b[1;32m--> 439\u001b[1;33m     \u001b[0mfsim\u001b[0m\u001b[1;33m[\u001b[0m\u001b[1;36m0\u001b[0m\u001b[1;33m]\u001b[0m \u001b[1;33m=\u001b[0m \u001b[0mfunc\u001b[0m\u001b[1;33m(\u001b[0m\u001b[0mx0\u001b[0m\u001b[1;33m)\u001b[0m\u001b[1;33m\u001b[0m\u001b[0m\n\u001b[0m\u001b[0;32m    440\u001b[0m     \u001b[0mnonzdelt\u001b[0m \u001b[1;33m=\u001b[0m \u001b[1;36m0.05\u001b[0m\u001b[1;33m\u001b[0m\u001b[0m\n\u001b[0;32m    441\u001b[0m     \u001b[0mzdelt\u001b[0m \u001b[1;33m=\u001b[0m \u001b[1;36m0.00025\u001b[0m\u001b[1;33m\u001b[0m\u001b[0m\n",
      "\u001b[1;31mValueError\u001b[0m: setting an array element with a sequence."
     ]
    },
    {
     "data": {
      "image/png": "[encoded data removed]",
      "text/plain": [
       "<matplotlib.figure.Figure at 0x7f97a98c2310>"
      ]
     },
     "metadata": {},
     "output_type": "display_data"
    }
   ],
   "source": [
    "from scipy.optimize import minimize,leastsq\n",
    "x_gauss = np.loadtxt(\"tutorial3_files/x_gauss.txt\")\n",
    "y_gauss = np.loadtxt(\"tutorial3_files/y_gauss.txt\")\n",
    "plt.plot(x_gauss, y_gauss, 'o')\n",
    "def gauss_res(parameters, x, y):\n",
    "    A = parameters[0]\n",
    "    x0 = parameters[1]\n",
    "    sigma = parameters[2]\n",
    "    y0 = parameters[3]    \n",
    "    return (y_gauss -(np.ones(len(x_gauss)) * y0 + A * np.exp(-(x_gauss-np.ones(len(x_gauss))*x0)**2/2/sigma**2)/np.sqrt(2*np.pi*sigma**2)))**2\n",
    "param_init = [1.0, 0, 0.4, 1.0]\n",
    "result = minimize(gauss_res,param_init,args=(x_gauss,y_gauss),method=\"nelder-mead\")\n",
    "result\n",
    "A = result[0][0]\n",
    "x0 = result[0][1]\n",
    "sigma = result[0][2]\n",
    "y0 = result[0][3]\n",
    "y_fit = np.ones(len(x_gauss)) * y0 + A * np.exp(-(x_gauss-np.ones(len(x_gauss))*x0)**2/2/sigma**2)/np.sqrt(2*np.pi*sigma**2)\n",
    "plt.plot(x_gauss, y_gauss, 'o', label=\"observed\")\n",
    "plt.plot(x_gauss, y_fit, 'r', alpha=0.5, linewidth=4.0, label=\"fitted\")\n",
    "plt.legend()"
   ]
  },
  {
   "cell_type": "code",
   "execution_count": null,
   "metadata": {
    "collapsed": true
   },
   "outputs": [],
   "source": []
  }
 ],
 "metadata": {
  "kernelspec": {
   "display_name": "Python 2",
   "language": "python",
   "name": "python2"
  },
  "language_info": {
   "codemirror_mode": {
    "name": "ipython",
    "version": 2
   },
   "file_extension": ".py",
   "mimetype": "text/x-python",
   "name": "python",
   "nbconvert_exporter": "python",
   "pygments_lexer": "ipython2",
   "version": "2.7.11"
  },
  "latex_envs": {
   "bibliofile": "biblio.bib",
   "cite_by": "apalike",
   "current_citInitial": 1,
   "eqLabelWithNumbers": true,
   "eqNumInitial": 0
  },
  "toc": {
   "toc_cell": false,
   "toc_number_sections": true,
   "toc_threshold": 6,
   "toc_window_display": false
  }
 },
 "nbformat": 4,
 "nbformat_minor": 0
}
