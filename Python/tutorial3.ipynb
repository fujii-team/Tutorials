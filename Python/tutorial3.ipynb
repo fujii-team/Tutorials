{
 "cells": [
  {
   "cell_type": "markdown",
   "metadata": {},
   "source": [
    "# Note\n",
    "\n",
    "1.　関数\n",
    "\n",
    "2.　科学計算ライブラリScipy"
   ]
  },
  {
   "cell_type": "markdown",
   "metadata": {},
   "source": [
    "# 関数\n",
    "\n",
    "関数は以下のようにして定義する"
   ]
  },
  {
   "cell_type": "markdown",
   "metadata": {},
   "source": [
    "## 関数の例\n",
    "\n",
    "$\\sin^2(x)$ を返す関数を定義する。"
   ]
  },
  {
   "cell_type": "code",
   "execution_count": 1,
   "metadata": {
    "ExecuteTime": {
     "end_time": "2016-04-14T18:06:11.631499",
     "start_time": "2016-04-14T18:06:11.575091"
    },
    "collapsed": true
   },
   "outputs": [],
   "source": [
    "import numpy as np\n",
    "\n",
    "def sin_square(x):\n",
    "    sin = np.sin(x)\n",
    "    sin2 = sin*sin\n",
    "    return sin2"
   ]
  },
  {
   "cell_type": "code",
   "execution_count": 2,
   "metadata": {
    "ExecuteTime": {
     "end_time": "2016-04-14T18:07:35.308000",
     "start_time": "2016-04-14T18:07:35.139140"
    },
    "collapsed": false
   },
   "outputs": [
    {
     "data": {
      "text/plain": [
       "[<matplotlib.lines.Line2D at 0x7f977b86f160>]"
      ]
     },
     "execution_count": 2,
     "metadata": {},
     "output_type": "execute_result"
    },
    {
     "data": {
      "image/png": "[encoded data removed]",
      "text/plain": [
       "<matplotlib.figure.Figure at 0x7f97948a4630>"
      ]
     },
     "metadata": {},
     "output_type": "display_data"
    }
   ],
   "source": [
    "import matplotlib.pylab as plt\n",
    "%matplotlib inline\n",
    "\n",
    "x = np.arange(0, 6, 0.1)\n",
    "\n",
    "# for ループを一行で書く方法\n",
    "y = [sin_square(x1) for x1 in x]\n",
    "\n",
    "plt.plot(x, y)"
   ]
  },
  {
   "cell_type": "markdown",
   "metadata": {},
   "source": [
    "## 宿題1 - Lorentz 関数を返す関数 - \n",
    "\n",
    "以下のLorentz関数 \n",
    "$$\n",
    "L(x| A, x_0, \\gamma) = A\\frac{\\gamma}{1 + \\left(\\frac{x-x_0}{\\gamma}\\right)^2}\n",
    "$$\n",
    "を作って描画する"
   ]
  },
  {
   "cell_type": "code",
   "execution_count": null,
   "metadata": {
    "collapsed": true
   },
   "outputs": [],
   "source": []
  },
  {
   "cell_type": "markdown",
   "metadata": {},
   "source": [
    "# Scipy\n",
    "\n",
    "科学計算で使う機能を提供するライブラリ。\n",
    "\n",
    "ここでは、最小二乗近似(scipy.optimize.leastsq)、最小化（scipy.optimize.minimize）を使ってみる。\n",
    "\n",
    "仕様（\n",
    "\n",
    "http://docs.scipy.org/doc/scipy-0.14.0/reference/generated/scipy.optimize.leastsq.html\n",
    "\n",
    "http://docs.scipy.org/doc/scipy-0.17.0/reference/generated/scipy.optimize.minimize.html\n",
    "\n",
    "）を参照すること。\n"
   ]
  },
  {
   "cell_type": "code",
   "execution_count": 3,
   "metadata": {
    "ExecuteTime": {
     "end_time": "2016-04-14T18:13:40.033727",
     "start_time": "2016-04-14T18:13:40.025845"
    },
    "collapsed": true
   },
   "outputs": [],
   "source": [
    "# ライブラリのインポート\n",
    "import scipy.optimize"
   ]
  },
  {
   "cell_type": "markdown",
   "metadata": {},
   "source": [
    "## テストデータの読み込み・描画\n",
    "\n",
    "ファイル\n",
    "tutorial3_files/x_lorentz.txt\n",
    "tutorial3_files/y_lorentz.txt\n",
    "を読み込む。\n",
    "それぞれ、コンマで区切られたテキストファイルである。"
   ]
  },
  {
   "cell_type": "code",
   "execution_count": 4,
   "metadata": {
    "collapsed": false
   },
   "outputs": [],
   "source": [
    "# データの読み込み\n",
    "x_lorentz = np.loadtxt(\"tutorial3_files/x_lorentz.txt\")\n",
    "y_lorentz = np.loadtxt(\"tutorial3_files/y_lorentz.txt\")"
   ]
  },
  {
   "cell_type": "code",
   "execution_count": 5,
   "metadata": {
    "ExecuteTime": {
     "end_time": "2016-04-14T18:14:24.076595",
     "start_time": "2016-04-14T18:14:24.073992"
    },
    "collapsed": false
   },
   "outputs": [
    {
     "data": {
      "text/plain": [
       "[<matplotlib.lines.Line2D at 0x7f9775934978>]"
      ]
     },
     "execution_count": 5,
     "metadata": {},
     "output_type": "execute_result"
    },
    {
     "data": {
      "image/png": "[encoded data removed]",
      "text/plain": [
       "<matplotlib.figure.Figure at 0x7f9775d71160>"
      ]
     },
     "metadata": {},
     "output_type": "display_data"
    }
   ],
   "source": [
    "# 描画\n",
    "plt.plot(x_lorentz, y_lorentz, 'o')"
   ]
  },
  {
   "cell_type": "markdown",
   "metadata": {},
   "source": [
    "## scipy.optimize.leastsq を用いたフィッティング\n",
    "\n",
    "http://docs.scipy.org/doc/scipy-0.14.0/reference/generated/scipy.optimize.leastsq.html\n",
    "\n",
    "http://www2.kaiyodai.ac.jp/~kentaro/materials/new_HP/python/15fit_data3.html\n",
    "\n",
    "などを参考にする。\n",
    "\n",
    "まず、各xにおいて、近似値（Lorentz関数）と計測データ（上記の青丸データ）の差をnp.arrayで返す関数を定義する。"
   ]
  },
  {
   "cell_type": "code",
   "execution_count": 6,
   "metadata": {
    "collapsed": false
   },
   "outputs": [],
   "source": [
    "# parameters : 求めたいパラメータ。今回の場合はLorentz関数の形を定義する A， x０，γ とオフセットy0\n",
    "def Lorentz_res(parameters, x, y):\n",
    "    A = parameters[0]\n",
    "    x0 = parameters[1]\n",
    "    gamma = parameters[2]\n",
    "    y0 = parameters[3]\n",
    "    \n",
    "    return y - (np.ones(len(x)) * y0 + A * gamma / (1.0 + ((x-np.ones(len(x))*x0)/gamma)**2.0))"
   ]
  },
  {
   "cell_type": "markdown",
   "metadata": {},
   "source": [
    "パラメータの初期値を指定する"
   ]
  },
  {
   "cell_type": "code",
   "execution_count": 7,
   "metadata": {
    "collapsed": true
   },
   "outputs": [],
   "source": [
    "param_init = [1.0, 0.1, 0.4, 0.1]"
   ]
  },
  {
   "cell_type": "markdown",
   "metadata": {},
   "source": [
    "フィッティングを実行する"
   ]
  },
  {
   "cell_type": "code",
   "execution_count": 8,
   "metadata": {
    "collapsed": true
   },
   "outputs": [],
   "source": [
    "result = scipy.optimize.leastsq(Lorentz_res,param_init,args=(x_lorentz,y_lorentz))"
   ]
  },
  {
   "cell_type": "code",
   "execution_count": 9,
   "metadata": {
    "collapsed": false
   },
   "outputs": [
    {
     "data": {
      "text/plain": [
       "(array([  2.18882115e+00,  -1.51703585e-02,   4.51209347e-01,\n",
       "         -1.92376834e-05]), 1)"
      ]
     },
     "execution_count": 9,
     "metadata": {},
     "output_type": "execute_result"
    }
   ],
   "source": [
    "result"
   ]
  },
  {
   "cell_type": "code",
   "execution_count": 10,
   "metadata": {
    "collapsed": true
   },
   "outputs": [],
   "source": [
    "A = result[0][0]\n",
    "x0 = result[0][1]\n",
    "gamma = result[0][2]\n",
    "y0 = result[0][3]\n",
    "\n",
    "y_fit = (np.ones(len(x_lorentz)) * y0 + A * gamma / (1.0 + ((x_lorentz-np.ones(len(x_lorentz))*x0)/gamma)**2.0))"
   ]
  },
  {
   "cell_type": "code",
   "execution_count": 11,
   "metadata": {
    "collapsed": false
   },
   "outputs": [
    {
     "data": {
      "text/plain": [
       "<matplotlib.legend.Legend at 0x7f97758a8dd8>"
      ]
     },
     "execution_count": 11,
     "metadata": {},
     "output_type": "execute_result"
    },
    {
     "data": {
      "image/png": "[encoded data removed]",
      "text/plain": [
       "<matplotlib.figure.Figure at 0x7f9775d84908>"
      ]
     },
     "metadata": {},
     "output_type": "display_data"
    }
   ],
   "source": [
    "# 描画\n",
    "plt.plot(x_lorentz, y_lorentz, 'o', label=\"observed\")\n",
    "plt.plot(x_lorentz, y_fit, 'r', alpha=0.5, linewidth=4.0, label=\"fitted\")\n",
    "plt.legend()"
   ]
  },
  {
   "cell_type": "markdown",
   "metadata": {},
   "source": [
    "## 宿題2\n",
    "\n",
    "データ\n",
    "\n",
    "tutorial3_files/x_gauss.txt\n",
    "\n",
    "tutorial3_files/y_gauss.txt\n",
    "\n",
    "をガウス関数\n",
    "$$\n",
    "{\\mathcal G}(x | A, x_0, \\sigma, y_0) = y_0 + \\frac{A}{\\sqrt{2\\pi \\sigma^2}} \\exp\\left( -\\frac{(x-x_0)^2}{2w^2}\\right)\n",
    "$$\n",
    "でフィッティングする。\n",
    "\n",
    "今回は、\n",
    "\n",
    "http://docs.scipy.org/doc/scipy-0.17.0/reference/generated/scipy.optimize.minimize.html\n",
    "\n",
    "http://oppython.hatenablog.com/entry/2015/09/28/222920\n",
    "\n",
    "などを参考にして\n",
    "scipy.optimize.minimize\n",
    "を使ってデータを最も再現する$A, x_0, \\sigma, y_0$ を求める。\n",
    "\n",
    "\n",
    "フィッティング曲線と、データ点を描画するとともに、グラフ内に\n",
    "求めた\n",
    "$A, x_0, \\sigma, y_0$\n",
    "を記載する。"
   ]
  },
  {
   "cell_type": "code",
   "execution_count": null,
   "metadata": {
    "collapsed": true
   },
   "outputs": [],
   "source": []
  }
 ],
 "metadata": {
  "kernelspec": {
   "display_name": "Python [Root]",
   "language": "python",
   "name": "Python [Root]"
  },
  "language_info": {
   "codemirror_mode": {
    "name": "ipython",
    "version": 3
   },
   "file_extension": ".py",
   "mimetype": "text/x-python",
   "name": "python",
   "nbconvert_exporter": "python",
   "pygments_lexer": "ipython3",
   "version": "3.5.2"
  },
  "latex_envs": {
   "bibliofile": "biblio.bib",
   "cite_by": "apalike",
   "current_citInitial": 1,
   "eqLabelWithNumbers": true,
   "eqNumInitial": 0
  },
  "toc": {
   "toc_cell": false,
   "toc_number_sections": true,
   "toc_threshold": 6,
   "toc_window_display": false
  }
 },
 "nbformat": 4,
 "nbformat_minor": 0
}
