{
 "cells": [
  {
   "cell_type": "markdown",
   "metadata": {},
   "source": [
    "kanatani"
   ]
  },
  {
   "cell_type": "markdown",
   "metadata": {},
   "source": [
    "# 目次\n",
    "\n",
    "基本的な使い方 参考　http://www.pythonweb.jp/tutorial/\n",
    "\n",
    "1.　Pythonのデータ型\n",
    "\n",
    "    文字列、リスト型、辞書型、forループ、if文、\n",
    "\n",
    "2.　MatplotLibでの描画\n",
    "\n",
    "3.　Jupyterの使い方\n",
    "\n",
    "4.　宿題"
   ]
  },
  {
   "cell_type": "markdown",
   "metadata": {},
   "source": [
    "# Pythonのデータ型"
   ]
  },
  {
   "cell_type": "markdown",
   "metadata": {},
   "source": [
    "## 文字列"
   ]
  },
  {
   "cell_type": "markdown",
   "metadata": {},
   "source": [
    "文字列はPythonで用意されている基本的な組み込み型の一つで、シーケンス型に含まれています。シーケンスと言うのは複数の要素から構成されるもので、要素が順番に並んでいます。文字列の場合は文字と言う要素が順番に並んでいると考えることが出来ます。\n",
    "\n",
    "プログラムの中で文字列を表すいくつかの方法がありますが、基本的な方法は次の二つです。\n",
    "\n",
    "\"文字列\"\n",
    "\n",
    "'文字列'\n",
    "\n",
    "対象となる文字の集まりをダブルクオーテーション(\"\")で囲うか、シングルクオーテーション('')で囲います。\n",
    "\n",
    "他のプログラミング言語ではダブルクオーテーションとシングルクオーテーションで囲った場合ではエスケープ処理などの扱いが異なるものがほとんどですが、Pythonにおいてはどちらの文字列もまったく同じです。\n",
    "\n",
    "実際には次のように記述します。"
   ]
  },
  {
   "cell_type": "code",
   "execution_count": 10,
   "metadata": {
    "collapsed": false,
    "scrolled": true
   },
   "outputs": [
    {
     "data": {
      "text/plain": [
       "'ByeBye'"
      ]
     },
     "execution_count": 10,
     "metadata": {},
     "output_type": "execute_result"
    }
   ],
   "source": [
    "\"Hello\"\n",
    "'ByeBye'"
   ]
  },
  {
   "cell_type": "markdown",
   "metadata": {},
   "source": [
    "### 文字列の標準出力への出力"
   ]
  },
  {
   "cell_type": "markdown",
   "metadata": {},
   "source": [
    "「print」文は引数に指定されたオブジェクトを標準出力に出力します。"
   ]
  },
  {
   "cell_type": "code",
   "execution_count": 11,
   "metadata": {
    "collapsed": false
   },
   "outputs": [
    {
     "name": "stdout",
     "output_type": "stream",
     "text": [
      "Hello!\n"
     ]
    }
   ],
   "source": [
    "print \"Hello!\""
   ]
  },
  {
   "cell_type": "markdown",
   "metadata": {},
   "source": [
    "「print」文は自動的に改行(¥n)を追加して出力します。よって上記は「Hello!」と出力後に改行を出力します。\n",
    "\n",
    "複数の引数を指定する場合はカンマ(,)で区切って記述します。"
   ]
  },
  {
   "cell_type": "code",
   "execution_count": 12,
   "metadata": {
    "collapsed": false
   },
   "outputs": [
    {
     "name": "stdout",
     "output_type": "stream",
     "text": [
      "Hello! Satou\n"
     ]
    }
   ],
   "source": [
    "print \"Hello!\", \"Satou\""
   ]
  },
  {
   "cell_type": "markdown",
   "metadata": {},
   "source": [
    "## List"
   ]
  },
  {
   "cell_type": "markdown",
   "metadata": {},
   "source": [
    "### List object"
   ]
  },
  {
   "cell_type": "markdown",
   "metadata": {},
   "source": [
    "リストは要素としてあらゆるオブジェクトを持つことが出来ます。その為、他の複数のオブジェクトをまとめて管理することが出来るオブジェクトであると言えます。\n",
    "\n",
    "リスト型のオブジェクトを作成するには次のように行います。\n",
    "[オブジェクト1, オブジェクト2, ...]\n",
    "括弧[]で囲んだ中にオブジェクトをカンマ(,)で区切って記述します。"
   ]
  },
  {
   "cell_type": "code",
   "execution_count": 2,
   "metadata": {
    "collapsed": false
   },
   "outputs": [
    {
     "data": {
      "text/plain": [
       "[2005, 2006, 2007, 2008]"
      ]
     },
     "execution_count": 2,
     "metadata": {},
     "output_type": "execute_result"
    }
   ],
   "source": [
    "[2005, 2006, 2007, 2008]"
   ]
  },
  {
   "cell_type": "markdown",
   "metadata": {},
   "source": [
    "また作成されたリストオブジェクトもオブジェクトの一つですので、変数に代入することが出来ます。"
   ]
  },
  {
   "cell_type": "code",
   "execution_count": 5,
   "metadata": {
    "collapsed": true
   },
   "outputs": [],
   "source": [
    "list_object = [2005, 2006, 2007, 2008]"
   ]
  },
  {
   "cell_type": "markdown",
   "metadata": {},
   "source": [
    "リストの要素は異なるオブジェクトであっても構いません。下記では数値オブジェクトと文字列オブジェクトが混在するリストオブジェクトを作成しています。"
   ]
  },
  {
   "cell_type": "code",
   "execution_count": 6,
   "metadata": {
    "collapsed": true
   },
   "outputs": [],
   "source": [
    "list_object = [u\"山田\", u\"太郎\", 1992, 12, 31, u\"男性\"]"
   ]
  },
  {
   "cell_type": "markdown",
   "metadata": {},
   "source": [
    "他のリストオブジェクトを要素として持つことも可能です。"
   ]
  },
  {
   "cell_type": "code",
   "execution_count": 8,
   "metadata": {
    "collapsed": true
   },
   "outputs": [],
   "source": [
    "list_object = [10, [20, 16], [32, 34], 18]"
   ]
  },
  {
   "cell_type": "markdown",
   "metadata": {},
   "source": [
    "### スライスを使った部分リストの取得"
   ]
  },
  {
   "cell_type": "markdown",
   "metadata": {},
   "source": [
    "リストオブジェクトに対しスライスを使って部分リストを取得するには次の書式を使います。\n",
    "\n",
    "リストオブジェクト[開始インデックス:終了インデックス]\n",
    "\n",
    "具体的には次のように記述します。\n"
   ]
  },
  {
   "cell_type": "code",
   "execution_count": 9,
   "metadata": {
    "collapsed": true
   },
   "outputs": [],
   "source": [
    "list_object = [\"A\", \"B\", \"C\", \"D\", \"E\"]\n",
    "\n",
    "slice1 = list_object[1:2]     # [\"B\"]\n",
    "slice2 = list_object[1:-1]    # [\"B\", \"C\", \"D\"]\n",
    "slice3 = list_object[1:]      # [\"B\", \"C\", \"D\", \"E\"]\n",
    "slice4 = list_object[:2]      # [\"A\", \"B\"]\n",
    "slice5 = list_object[:]       # [\"A\", \"B\", \"C\", \"D\", \"E\"]"
   ]
  },
  {
   "cell_type": "markdown",
   "metadata": {},
   "source": [
    "### 要素の変更"
   ]
  },
  {
   "cell_type": "markdown",
   "metadata": {},
   "source": [
    "リストオブジェクトは一度作成された後で要素が参照するオブジェクトを変更することが出来ます。(文字列の場合は、個々の要素が参照する文字を変更できません)。\n",
    "\n",
    "要素が参照するオブジェクトを変更するには、インデックスを指定して取得した要素に対して新しいオブジェクトを代入します。\n",
    "\n",
    "リスト[インデックス] = オブジェクト\n",
    "\n",
    "この時、新しいリストオブジェクトが作成されるのではなく、元のリストオブジェクトの指定の要素が参照するオブジェクトが変更になります。\n",
    "\n",
    "具体的には次のように記述します。"
   ]
  },
  {
   "cell_type": "code",
   "execution_count": 13,
   "metadata": {
    "collapsed": false
   },
   "outputs": [
    {
     "name": "stdout",
     "output_type": "stream",
     "text": [
      "['A', 'b', 'C']\n"
     ]
    }
   ],
   "source": [
    "list_object = [\"A\", \"B\", \"C\"]\n",
    "\n",
    "list_object[1] = \"b\"\n",
    "print list_object      # [\"A\", \"b\", \"C\"]"
   ]
  },
  {
   "cell_type": "markdown",
   "metadata": {},
   "source": [
    "またスライスを使って取得したリストに対して新しいリストを代入することで、リストの一部分を別のリストに置き換えることが出来ます。\n",
    "\n",
    "リスト[開始インデックス:終了インデックス] = 別のリスト\n",
    "具体的には次のように記述します。"
   ]
  },
  {
   "cell_type": "code",
   "execution_count": 15,
   "metadata": {
    "collapsed": false
   },
   "outputs": [
    {
     "name": "stdout",
     "output_type": "stream",
     "text": [
      "['A', 'b', 'c', 'D']\n"
     ]
    }
   ],
   "source": [
    "list_object = [\"A\", \"B\", \"C\", \"D\"]\n",
    "\n",
    "list_object[1:3] = [\"b\", \"c\"]\n",
    "print list_object      # [\"A\", \"b\", \"c\", \"D\"]"
   ]
  },
  {
   "cell_type": "markdown",
   "metadata": {},
   "source": [
    "スライスによって取得した部分リストを別のリストによって置き換えています。\n",
    "\n",
    "また今回は置き換えられるリストの要素数と置き換えるリストの要素数は同じでしたが、必ずしも同じである必要はありません。次の例を見てください。"
   ]
  },
  {
   "cell_type": "code",
   "execution_count": 16,
   "metadata": {
    "collapsed": false
   },
   "outputs": [
    {
     "name": "stdout",
     "output_type": "stream",
     "text": [
      "['A', 'B', 'b', 'C', 'c', 'D']\n"
     ]
    }
   ],
   "source": [
    "list_object = [\"A\", \"B\", \"C\", \"D\"]\n",
    "\n",
    "list_object[1:3] = [\"B\", \"b\", \"C\", \"c\"]\n",
    "print list_object      # [\"A\", \"B\", \"b\", \"C\", \"c\", \"D\"]"
   ]
  },
  {
   "cell_type": "markdown",
   "metadata": {},
   "source": [
    "### リストのサイズの取得(len関数)"
   ]
  },
  {
   "cell_type": "markdown",
   "metadata": {},
   "source": [
    "リストが現在持っている要素数を取得することが出来ます。組み込み関数の「len」関数を使用します。\n",
    "\n",
    "len(リストオブジェクト)\n",
    "リストに含まれる要素数を取得します。「len」関数はリストの他に文字列やタプル、辞書などの要素数を取得できます。\n",
    "\n",
    "具体的には次のように記述します。"
   ]
  },
  {
   "cell_type": "code",
   "execution_count": 23,
   "metadata": {
    "collapsed": false
   },
   "outputs": [
    {
     "name": "stdout",
     "output_type": "stream",
     "text": [
      "3\n"
     ]
    }
   ],
   "source": [
    "list_object = [\"A\", \"B\", \"C\"]\n",
    "\n",
    "print len(list_object)"
   ]
  },
  {
   "cell_type": "markdown",
   "metadata": {},
   "source": [
    "## 辞書(ディクショナリ)"
   ]
  },
  {
   "cell_type": "markdown",
   "metadata": {},
   "source": [
    "### 辞書オブジェクト "
   ]
  },
  {
   "cell_type": "markdown",
   "metadata": {},
   "source": [
    "辞書型はシーケンス型と同じく複数の要素から構成されていますが、シーケンス型と異なり要素間には順序はありません。\n",
    "その為、インデックスで要素を取り出すことは出来ません。\n",
    "その代わり各要素にはキーと呼ばれる識別子を値と合わせて登録します。\n",
    "\n",
    "辞書型のオブジェクトを作成するには次のように行います。\n",
    "\n",
    "{キー1:値1, キー2:値2, ...}\n",
    "\n",
    "括弧{}で囲んだ中に要素をカンマ(,)で区切って記述します。要素は値とキーのペアで構成され、値とキーはコロン(:)で区切って記述します。\n",
    "\n",
    "キーは各要素を識別するための目印となるものです。\n",
    "\n",
    "辞書型では要素間に順序がありませんので、ある要素の前の要素とか、次の要素とかの概念はありません。\n",
    "\n",
    "バラバラに格納された各要素を取り出すには、要素に割り当てられたキーを指定することで行います。\n",
    "\n",
    "具体的には次のように記述します。"
   ]
  },
  {
   "cell_type": "code",
   "execution_count": 24,
   "metadata": {
    "collapsed": true
   },
   "outputs": [],
   "source": [
    "dict_object = {\"yamada\":75, \"endou\":82}"
   ]
  },
  {
   "cell_type": "markdown",
   "metadata": {},
   "source": [
    "上記ではキーが「yamada」で値が「75」の要素と、キーが「endou」で値が「82」の要素の2つの要素を持つ辞書型のオブジェクトを作成しています。"
   ]
  },
  {
   "cell_type": "markdown",
   "metadata": {},
   "source": [
    "### キーの指定と値の取得"
   ]
  },
  {
   "cell_type": "markdown",
   "metadata": {},
   "source": [
    "辞書型のオブジェクトを作成したあとで、キーを指定して値を取得するには次のように行います。\n",
    "\n",
    "辞書オブジェクト[キー]\n",
    "\n",
    "辞書オブジェクトの中の要素の中からキーが一致する要素を検索し、その要素の値を返します。\n",
    "\n",
    "具体的には次のように記述します。"
   ]
  },
  {
   "cell_type": "code",
   "execution_count": 25,
   "metadata": {
    "collapsed": true
   },
   "outputs": [],
   "source": [
    "dict_object = {\"yamada\":75, \"endou\":82}\n",
    "value =  dict_object[\"yamada\"]"
   ]
  },
  {
   "cell_type": "markdown",
   "metadata": {},
   "source": [
    "上記ではキーが「yamada」の要素の値を取得しています。\n",
    "\n",
    "なお存在しないキーを指定して値を取得しようとすると「KeyError」が発生します。\n",
    "\n"
   ]
  },
  {
   "cell_type": "markdown",
   "metadata": {},
   "source": [
    "辞書オブジェクトに要素を追加するには、現在存在しないキーを指定して値を代入します。\n",
    "\n",
    "辞書オブジェクト[キー] = オブジェクト\n",
    "既に存在しているキーを指定して要素を取得しオブジェクトを代入すると、そのキーに対する値が変更されることになりますが、存在していないキーを指定してオブジェクトを代入すると、キーとオブジェクトをペアとする新しい要素が追加されます。\n",
    "\n",
    "具体的には次のように記述します。"
   ]
  },
  {
   "cell_type": "code",
   "execution_count": 26,
   "metadata": {
    "collapsed": true
   },
   "outputs": [],
   "source": [
    "dict_object = {\"yamada\":75, \"endou\":82}"
   ]
  },
  {
   "cell_type": "code",
   "execution_count": 27,
   "metadata": {
    "collapsed": true
   },
   "outputs": [],
   "source": [
    "dict_object[\"itou\"] = 89"
   ]
  },
  {
   "cell_type": "markdown",
   "metadata": {},
   "source": [
    "上記の場合はキーが「itou」で値が「89」の新しい要素が追加されます。"
   ]
  },
  {
   "cell_type": "markdown",
   "metadata": {},
   "source": [
    "## for文"
   ]
  },
  {
   "cell_type": "markdown",
   "metadata": {},
   "source": [
    "繰り返し処理の1つであるfor文について確認します。書式は次のようになっています。\n",
    "\n",
    "for 変数 in オブジェクト:\n",
    "\n",
    "　実行する処理1\n",
    "  \n",
    "  実行する処理2\n",
    "\n",
    "「for」文はシーケンス型のオブジェクトから要素を順に変数に代入し、要素の数だけ繰り返しを行います。\n",
    "\n",
    "例えば文字列が指定された場合は文字を1文字ずつ変数に代入しながら繰り返しを行いますし、リスト型のオブジェクトを指定した場合はリストの要素を先頭から順に変数に代入しながら繰り返しを行います。\n",
    "\n",
    "結果的にオブジェクトに含まれる要素の数だけ繰り返しが行われることになります。"
   ]
  },
  {
   "cell_type": "code",
   "execution_count": 28,
   "metadata": {
    "collapsed": false
   },
   "outputs": [
    {
     "name": "stdout",
     "output_type": "stream",
     "text": [
      "num = 4\n",
      "num = 3\n",
      "num = 12\n",
      "End\n"
     ]
    }
   ],
   "source": [
    "for num in [4, 3, 12]:\n",
    "  print \"num = \" + str(num)\n",
    "print \"End\""
   ]
  },
  {
   "cell_type": "markdown",
   "metadata": {},
   "source": [
    "### for文とrange関数を使った指定回数の繰り返し"
   ]
  },
  {
   "cell_type": "markdown",
   "metadata": {},
   "source": [
    "「for」文はではシーケンス型のオブジェクトから要素を取り出しながら繰り返し処理を行いますが、指定した回数だけ繰り返しを行いたい場合にはrange関数を使って連続した数値の要素を持つリスト型のオブジェクトを作成して利用します。\n",
    "\n",
    "例として10回繰り返したい場合には次のように記述を行います。\n",
    "\n",
    "for var in range(0, 10):\n",
    "\n",
    "  実行する処理1\n",
    "\n",
    " 実行する処理2\n",
    "\n",
    "range関数は引数に指定した開始と終了の数値から連続する数値の値(終了の値は含まない)を要素として持つリスト型のオブジェクトを作成します。\n",
    "\n",
    "上記は次のように記述した場合と同じです。\n",
    "\n",
    "for var in [0, 1, 2, 3, 4, 5, 6, 7, 8, 9]:\n",
    "\n",
    "  実行する処理1\n",
    "\n",
    "　実行する処理2\n",
    "\n",
    "数が少ない場合は直接リスト型のオブジェクトを作成することもできますが、繰り返し回数が多い場合に直接リスト型のオブジェクトを作成するのは現実的ではありません。\n",
    "\n",
    "その時はrange関数を使って下さい。\n",
    "\n",
    "もちろん繰り返しのたびに変数にオブジェクトの要素を代入しますので、「for」文のブロックの中で利用することも出来ますが、単に決まった回数だけ繰り返したい場合にも使用することが出来ます。"
   ]
  },
  {
   "cell_type": "code",
   "execution_count": 29,
   "metadata": {
    "collapsed": false
   },
   "outputs": [
    {
     "name": "stdout",
     "output_type": "stream",
     "text": [
      "sum = 500500\n"
     ]
    }
   ],
   "source": [
    "sum = 0\n",
    "for num in range(1, 1001):\n",
    "  sum += num;\n",
    "\n",
    "print \"sum = \" + str(sum)"
   ]
  },
  {
   "cell_type": "markdown",
   "metadata": {},
   "source": [
    "# MatplotLibでの描画"
   ]
  },
  {
   "cell_type": "markdown",
   "metadata": {},
   "source": [
    "## ライブラリのインポート"
   ]
  },
  {
   "cell_type": "code",
   "execution_count": 17,
   "metadata": {
    "ExecuteTime": {
     "end_time": "2016-04-13T22:41:18.151992",
     "start_time": "2016-04-13T22:41:18.145822"
    },
    "collapsed": false
   },
   "outputs": [],
   "source": [
    "# グラフをノートブック内に表示させる\n",
    "%matplotlib inline \n",
    "\n",
    "#　グラフ描画ライブラリ（matplotlib）のインポート\n",
    "import matplotlib.pyplot as plt\n",
    "\n",
    "#　数値計算ライブラリのインポート\n",
    "import numpy as np"
   ]
  },
  {
   "cell_type": "markdown",
   "metadata": {},
   "source": [
    "以下のページなどを参考にする。\n",
    "\n",
    "http://www.turbare.net/transl/scipy-lecture-notes/intro/matplotlib/matplotlib.html"
   ]
  },
  {
   "cell_type": "markdown",
   "metadata": {},
   "source": [
    "## 例"
   ]
  },
  {
   "cell_type": "code",
   "execution_count": 10,
   "metadata": {
    "ExecuteTime": {
     "end_time": "2016-04-13T22:42:28.514324",
     "start_time": "2016-04-13T22:42:28.509203"
    },
    "collapsed": false
   },
   "outputs": [],
   "source": [
    "# データの作成\n",
    "x = np.arange(0, 6, 0.1)\n",
    "y = []\n",
    "for i in range(len(x)):\n",
    "    y.append(np.sin(x[i]))"
   ]
  },
  {
   "cell_type": "code",
   "execution_count": 11,
   "metadata": {
    "ExecuteTime": {
     "end_time": "2016-04-13T22:42:29.295823",
     "start_time": "2016-04-13T22:42:29.081590"
    },
    "collapsed": false
   },
   "outputs": [
    {
     "data": {
      "image/png": "[encoded data removed]",
      "text/plain": [
       "<matplotlib.figure.Figure at 0x7f2e5d79dc90>"
      ]
     },
     "metadata": {},
     "output_type": "display_data"
    }
   ],
   "source": [
    "plt.plot(x, y)\n",
    "plt.xlabel(\"x\")\n",
    "plt.ylabel('sin(x)')\n",
    "# ファイルを保存する\n",
    "plt.savefig(\"sin_example.png\")"
   ]
  },
  {
   "cell_type": "markdown",
   "metadata": {},
   "source": [
    "# 宿題"
   ]
  },
  {
   "cell_type": "markdown",
   "metadata": {},
   "source": [
    "## 宿題1\n",
    "以下の関数を作成してグラフに描画する。\n",
    "\n",
    "$$\n",
    "f(x) = \\frac{\\sigma}{\\sqrt{2\\pi}} \\exp\\left( - \\frac{(x-x_0)^2}{2\\sigma^2} \\right)\n",
    "$$\n",
    "\n",
    "$[\\sigma, x_0] = [1.0, 0.0], [2.0, 0.0], [2.0, 1.0]$ の場合をそれぞれ青・赤・緑の線で描画する。\n",
    "\n",
    "文字の大きさ：14pt\n",
    "\n",
    "x軸、y軸のラベルをつける。\n",
    "\n",
    "x軸、y軸とも、グラフの枠線と曲線との間にマージンをあける。"
   ]
  },
  {
   "cell_type": "code",
   "execution_count": 31,
   "metadata": {
    "collapsed": false
   },
   "outputs": [
    {
     "name": "stdout",
     "output_type": "stream",
     "text": [
      "1.0 0.0\n",
      "2.0 0.0\n",
      "2.0 1.0\n"
     ]
    },
    {
     "data": {
      "image/png": "[encoded data removed]",
      "text/plain": [
       "<matplotlib.figure.Figure at 0x7f0976470d90>"
      ]
     },
     "metadata": {},
     "output_type": "display_data"
    }
   ],
   "source": [
    "x = np.linspace(-3.0*np.pi, 3.0*np.pi, 256)\n",
    "sigmax0c=[[1.0,0.0,\"blue\"],[2.0,0.0,\"red\"],[2.0,1.0,\"green\"]]\n",
    "for sigma,x0,c in sigmax0c:\n",
    "    print sigma,x0 \n",
    "    y = sigma/np.sqrt(2.0*np.pi)*np.exp(-(x-x0)**2.0/2.0/sigma**2.0)\n",
    "    plt.plot(x, y,color=c)\n",
    "    plt.xlabel(\"x\",fontsize=14)\n",
    "    plt.ylabel('f(x)',fontsize=14)\n",
    "    plt.xlim(x.min() * 1.1, x.max() * 1.1)\n",
    "    plt.ylim(y.min() * 1.1, y.max() * 1.1)"
   ]
  },
  {
   "cell_type": "markdown",
   "metadata": {},
   "source": [
    "## 宿題2\n",
    "\n",
    "Git, GitHub の使い方を調べる。次の用語・操作の意味を調べて、以下のシェルに入力する。 "
   ]
  },
  {
   "cell_type": "markdown",
   "metadata": {},
   "source": [
    "### バージョン管理"
   ]
  },
  {
   "cell_type": "code",
   "execution_count": 32,
   "metadata": {
    "collapsed": true
   },
   "outputs": [],
   "source": [
    "#一つのファイルやファイルの集合に対して時間とともに加えられていく変更を記録するシステムで、後で特定バージョンを呼び出すことができるようにするためのもの"
   ]
  },
  {
   "cell_type": "markdown",
   "metadata": {},
   "source": [
    "### branch"
   ]
  },
  {
   "cell_type": "code",
   "execution_count": null,
   "metadata": {
    "collapsed": true
   },
   "outputs": [],
   "source": [
    "#並行して行われる複数の機能追加やバージョン管理を支援するための機能,履歴の流れを分岐して記録していく"
   ]
  },
  {
   "cell_type": "markdown",
   "metadata": {},
   "source": [
    "### commit"
   ]
  },
  {
   "cell_type": "code",
   "execution_count": null,
   "metadata": {
    "collapsed": true
   },
   "outputs": [],
   "source": [
    "#ファイルやディレクトリの追加・変更をリポジトリに記録する操作"
   ]
  },
  {
   "cell_type": "markdown",
   "metadata": {},
   "source": [
    "### merge"
   ]
  },
  {
   "cell_type": "code",
   "execution_count": null,
   "metadata": {
    "collapsed": true
   },
   "outputs": [],
   "source": [
    "#複数の履歴の流れを合流させること,ブランチを統合ブランチに統合させる"
   ]
  },
  {
   "cell_type": "markdown",
   "metadata": {},
   "source": [
    "### Push"
   ]
  },
  {
   "cell_type": "code",
   "execution_count": null,
   "metadata": {
    "collapsed": true
   },
   "outputs": [],
   "source": [
    "#リモートリポジトリで自分の手元のローカルリポジトリの変更履歴を共有するために、ローカルリポジトリ内の変更履歴をアップロードする操作"
   ]
  },
  {
   "cell_type": "markdown",
   "metadata": {},
   "source": [
    "### Pull"
   ]
  },
  {
   "cell_type": "code",
   "execution_count": null,
   "metadata": {
    "collapsed": true
   },
   "outputs": [],
   "source": [
    "#リモートリポジトリからローカルリポジトリに、他の人がプッシュした変更内容を取り込む操作"
   ]
  },
  {
   "cell_type": "markdown",
   "metadata": {},
   "source": [
    "## 提出2"
   ]
  },
  {
   "cell_type": "markdown",
   "metadata": {},
   "source": [
    "GitHubで提出する。\n",
    "\n",
    " 1. 各自の名前のブランチを作成\n",
    " \n",
    " 2. fujii-team/tutorials にpush\n",
    " \n",
    " 3. fujiisoup アカウントに pull request"
   ]
  },
  {
   "cell_type": "code",
   "execution_count": null,
   "metadata": {
    "collapsed": true
   },
   "outputs": [],
   "source": []
  }
 ],
 "metadata": {
  "kernelspec": {
   "display_name": "Python 2",
   "language": "python",
   "name": "python2"
  },
  "language_info": {
   "codemirror_mode": {
    "name": "ipython",
    "version": 2
   },
   "file_extension": ".py",
   "mimetype": "text/x-python",
   "name": "python",
   "nbconvert_exporter": "python",
   "pygments_lexer": "ipython2",
   "version": "2.7.11"
  },
  "latex_envs": {
   "bibliofile": "biblio.bib",
   "cite_by": "apalike",
   "current_citInitial": 1,
   "eqLabelWithNumbers": true,
   "eqNumInitial": 0
  },
  "toc": {
   "toc_cell": false,
   "toc_number_sections": true,
   "toc_threshold": 6,
   "toc_window_display": true
  }
 },
 "nbformat": 4,
 "nbformat_minor": 0
}
