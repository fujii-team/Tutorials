{
 "cells": [
  {
   "cell_type": "markdown",
   "metadata": {},
   "source": [
    "# Note\n",
    "\n",
    "1.　関数\n",
    "\n",
    "2.　科学計算ライブラリScipy"
   ]
  },
  {
   "cell_type": "markdown",
   "metadata": {},
   "source": [
    "# 関数\n",
    "\n",
    "関数は以下のようにして定義する"
   ]
  },
  {
   "cell_type": "markdown",
   "metadata": {},
   "source": [
    "## 関数の例\n",
    "\n",
    "$\\sin^2(x)$ を返す関数を定義する。"
   ]
  },
  {
   "cell_type": "code",
   "execution_count": 2,
   "metadata": {
    "ExecuteTime": {
     "end_time": "2016-04-14T18:06:11.631499",
     "start_time": "2016-04-14T18:06:11.575091"
    },
    "collapsed": true
   },
   "outputs": [],
   "source": [
    "import numpy as np\n",
    "\n",
    "def sin_square(x):\n",
    "    sin = np.sin(x)\n",
    "    sin2 = sin*sin\n",
    "    return sin2"
   ]
  },
  {
   "cell_type": "code",
   "execution_count": 5,
   "metadata": {
    "ExecuteTime": {
     "end_time": "2016-04-14T18:07:35.308000",
     "start_time": "2016-04-14T18:07:35.139140"
    },
    "collapsed": false
   },
   "outputs": [
    {
     "data": {
      "text/plain": [
       "[<matplotlib.lines.Line2D at 0x7f4082ed7cd0>]"
      ]
     },
     "execution_count": 5,
     "metadata": {},
     "output_type": "execute_result"
    },
    {
     "data": {
      "image/png": "[encoded data removed]",
      "text/plain": [
       "<matplotlib.figure.Figure at 0x7f40c01b7f50>"
      ]
     },
     "metadata": {},
     "output_type": "display_data"
    }
   ],
   "source": [
    "import matplotlib.pylab as plt\n",
    "%matplotlib inline\n",
    "\n",
    "x = np.arange(0, 6, 0.1)\n",
    "\n",
    "# for ループを一行で書く方法\n",
    "y = [sin_square(x1) for x1 in x]\n",
    "\n",
    "plt.plot(x, y)"
   ]
  },
  {
   "cell_type": "markdown",
   "metadata": {},
   "source": [
    "## 宿題1 - Lorentz 関数を返す関数 - \n",
    "\n",
    "以下のLorentz関数 \n",
    "$$\n",
    "L(x| A, x_0, \\gamma) = A\\frac{\\gamma}{1 + \\left(\\frac{x-x_0}{\\gamma}\\right)^2}\n",
    "$$\n",
    "を作って描画する"
   ]
  },
  {
   "cell_type": "code",
   "execution_count": null,
   "metadata": {
    "collapsed": true
   },
   "outputs": [],
   "source": []
  },
  {
   "cell_type": "markdown",
   "metadata": {},
   "source": [
    "# Scipy\n",
    "\n",
    "科学計算で使う機能を提供するライブラリ。\n",
    "\n",
    "ここでは、近似・最小化(scipy.optimize)を使ってみる。\n",
    "\n",
    "仕様（）を参照すること。\n"
   ]
  },
  {
   "cell_type": "code",
   "execution_count": 8,
   "metadata": {
    "ExecuteTime": {
     "end_time": "2016-04-14T18:13:40.033727",
     "start_time": "2016-04-14T18:13:40.025845"
    },
    "collapsed": true
   },
   "outputs": [],
   "source": [
    "# ライブラリのインポート\n",
    "import scipy.optimize"
   ]
  },
  {
   "cell_type": "markdown",
   "metadata": {},
   "source": [
    "テストデータの読み込み・描画"
   ]
  },
  {
   "cell_type": "code",
   "execution_count": 9,
   "metadata": {
    "ExecuteTime": {
     "end_time": "2016-04-14T18:14:24.076595",
     "start_time": "2016-04-14T18:14:24.073992"
    },
    "collapsed": true
   },
   "outputs": [],
   "source": [
    "# データの読み込み\n",
    "\n",
    "\n",
    "# 描画\n"
   ]
  },
  {
   "cell_type": "markdown",
   "metadata": {},
   "source": [
    "## 宿題2\n",
    "\n",
    "このデータを、上で定義したLorentz関数でフィッティングする。\n",
    "\n",
    "（データを最も再現する$A, x_0, \\gamma$ を求める）\n",
    "\n",
    "フィッティング曲線と、データ点を描画するとともに、グラフ内に\n",
    "求めた\n",
    "$A, x_0, \\gamma$\n",
    "を記載する。"
   ]
  },
  {
   "cell_type": "code",
   "execution_count": null,
   "metadata": {
    "collapsed": true
   },
   "outputs": [],
   "source": []
  }
 ],
 "metadata": {
  "kernelspec": {
   "display_name": "Python 2",
   "language": "python",
   "name": "python2"
  },
  "language_info": {
   "codemirror_mode": {
    "name": "ipython",
    "version": 2
   },
   "file_extension": ".py",
   "mimetype": "text/x-python",
   "name": "python",
   "nbconvert_exporter": "python",
   "pygments_lexer": "ipython2",
   "version": "2.7.11"
  },
  "latex_envs": {
   "bibliofile": "biblio.bib",
   "cite_by": "apalike",
   "current_citInitial": 1,
   "eqLabelWithNumbers": true,
   "eqNumInitial": 0
  },
  "toc": {
   "toc_cell": false,
   "toc_number_sections": true,
   "toc_threshold": 6,
   "toc_window_display": false
  }
 },
 "nbformat": 4,
 "nbformat_minor": 0
}
