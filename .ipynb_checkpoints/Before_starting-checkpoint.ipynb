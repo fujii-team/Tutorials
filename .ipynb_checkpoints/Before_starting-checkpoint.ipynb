{
 "cells": [
  {
   "cell_type": "markdown",
   "metadata": {},
   "source": [
    "# Note\n",
    "\n",
    "環境構築について\n",
    "\n",
    "1. Anaconda　(Python 他　科学計算用ライブラリ) のインストール"
   ]
  },
  {
   "cell_type": "markdown",
   "metadata": {},
   "source": [
    "# Anaconda のインストール"
   ]
  },
  {
   "cell_type": "markdown",
   "metadata": {},
   "source": [
    "https://www.continuum.io/downloads#_unix\n",
    "\n",
    "にアクセスし、\n",
    "$\\bf{PYTHON 2.7 64bit}$ \n",
    "をダウンロードする。\n",
    "\n",
    "homeディレクトリにAnaconda2ディレクトリを作成"
   ]
  },
  {
   "cell_type": "markdown",
   "metadata": {},
   "source": [
    "mkdir ~/Anaconda2\n",
    "\n",
    "mv [Anaconda2のパス] ~/Anaconda2/\n",
    "\n",
    "bash ~/Anaconda2/Anaconda2-4.0.0-Linux-x86_64.sh"
   ]
  },
  {
   "cell_type": "markdown",
   "metadata": {
    "collapsed": true
   },
   "source": [
    "ページの指示に沿ってインストールを行う。"
   ]
  },
  {
   "cell_type": "markdown",
   "metadata": {},
   "source": [
    "<img  src=\"KTNS6T88K0K6DY106ABT7RJHATNAQXWO.png\"/>"
   ]
  },
  {
   "cell_type": "markdown",
   "metadata": {},
   "source": [
    "最後にパスを追加するか聞かれるので\n",
    "Yes\n",
    "を選択する"
   ]
  },
  {
   "cell_type": "markdown",
   "metadata": {},
   "source": [
    "# SmartGit の導入"
   ]
  },
  {
   "cell_type": "markdown",
   "metadata": {},
   "source": [
    "## Gitのインストール\n",
    "\n",
    "以下のコマンドを実行\n",
    "\n",
    "sudo apt-get install git"
   ]
  },
  {
   "cell_type": "markdown",
   "metadata": {},
   "source": [
    "## SmartGit をダウンロード・インストールする\n",
    "\n",
    "以下のページに沿って実行\n",
    "\n",
    "http://ry0.github.io/blog/2015/06/06/smart-git/"
   ]
  },
  {
   "cell_type": "markdown",
   "metadata": {
    "collapsed": true
   },
   "source": [
    "# ホームディレクトリに適当なフォルダを作成する"
   ]
  },
  {
   "cell_type": "markdown",
   "metadata": {},
   "source": [
    "cd ~/\n",
    "\n",
    "mkdir study"
   ]
  },
  {
   "cell_type": "code",
   "execution_count": null,
   "metadata": {
    "collapsed": true
   },
   "outputs": [],
   "source": []
  }
 ],
 "metadata": {
  "kernelspec": {
   "display_name": "Python 2",
   "language": "python",
   "name": "python2"
  },
  "language_info": {
   "codemirror_mode": {
    "name": "ipython",
    "version": 2
   },
   "file_extension": ".py",
   "mimetype": "text/x-python",
   "name": "python",
   "nbconvert_exporter": "python",
   "pygments_lexer": "ipython2",
   "version": "2.7.11"
  },
  "latex_envs": {
   "bibliofile": "biblio.bib",
   "cite_by": "apalike",
   "current_citInitial": 1,
   "eqLabelWithNumbers": true,
   "eqNumInitial": 0
  },
  "toc": {
   "toc_cell": false,
   "toc_number_sections": true,
   "toc_threshold": 6,
   "toc_window_display": false
  }
 },
 "nbformat": 4,
 "nbformat_minor": 0
}
