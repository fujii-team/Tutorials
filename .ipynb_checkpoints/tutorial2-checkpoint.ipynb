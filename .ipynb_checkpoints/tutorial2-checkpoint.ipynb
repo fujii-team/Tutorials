{
 "cells": [
  {
   "cell_type": "markdown",
   "metadata": {},
   "source": [
    "# Note"
   ]
  },
  {
   "cell_type": "markdown",
   "metadata": {},
   "source": [
    "1.　Numpy.array\n",
    "\n",
    "2.　線形代数"
   ]
  },
  {
   "cell_type": "markdown",
   "metadata": {},
   "source": [
    "# 線形代数"
   ]
  },
  {
   "cell_type": "markdown",
   "metadata": {},
   "source": [
    "## Numpy.array"
   ]
  },
  {
   "cell_type": "markdown",
   "metadata": {},
   "source": [
    "### Numpy\n",
    "\n",
    "Pythonの（基本的な）数値計算ライブラリ\n",
    "\n",
    "sin, exp, asin などの基本的な関数のほか、\n",
    "\n",
    "線形代数などをサポートする\n",
    "\n",
    "このライブラリを用いるには以下のようにする"
   ]
  },
  {
   "cell_type": "code",
   "execution_count": 1,
   "metadata": {
    "ExecuteTime": {
     "end_time": "2016-04-14T17:21:32.531822",
     "start_time": "2016-04-14T17:21:32.458742"
    },
    "collapsed": true
   },
   "outputs": [],
   "source": [
    "import numpy as np"
   ]
  },
  {
   "cell_type": "markdown",
   "metadata": {},
   "source": [
    "### np.array\n",
    "\n",
    "1 list型に似た構造。\n",
    "\n",
    "2 二次元・三次元などの多次元構造をサポート\n",
    "\n",
    "3 データ型・大きさは事前に指定する必要あり"
   ]
  },
  {
   "cell_type": "code",
   "execution_count": 2,
   "metadata": {
    "ExecuteTime": {
     "end_time": "2016-04-14T17:25:01.955260",
     "start_time": "2016-04-14T17:25:01.946061"
    },
    "collapsed": true
   },
   "outputs": [],
   "source": [
    "# np.array型の作り方\n",
    "\n",
    "# サイズ10のベクトルを作成\n",
    "vec_a = np.ndarray(10)\n",
    "\n",
    "# サイズ5x10のマトリックスを作成\n",
    "mat_b = np.ndarray((5, 10))"
   ]
  },
  {
   "cell_type": "code",
   "execution_count": 3,
   "metadata": {
    "ExecuteTime": {
     "end_time": "2016-04-14T17:26:03.246088",
     "start_time": "2016-04-14T17:26:03.241970"
    },
    "collapsed": false
   },
   "outputs": [
    {
     "name": "stdout",
     "output_type": "stream",
     "text": [
      "1.0 2.0\n"
     ]
    }
   ],
   "source": [
    "# データには ［］ でアクセスする\n",
    "\n",
    "# 代入 \n",
    "vec_a[1] = 1.0\n",
    "mat_b[1,4] = 2.0\n",
    "\n",
    "# 読出し\n",
    "print vec_a[1], mat_b[1,4]"
   ]
  },
  {
   "cell_type": "code",
   "execution_count": 4,
   "metadata": {
    "ExecuteTime": {
     "end_time": "2016-04-14T17:26:44.397700",
     "start_time": "2016-04-14T17:26:44.385962"
    },
    "collapsed": false
   },
   "outputs": [
    {
     "name": "stdout",
     "output_type": "stream",
     "text": [
      "[ 2.  1.  0.  0.  0.  0.  0.  0.  0.  0.]\n"
     ]
    }
   ],
   "source": [
    "# スライスも使える\n",
    "vec_a[2:10] = 0.0\n",
    "vec_a[0] = 2.0\n",
    "\n",
    "print vec_a"
   ]
  },
  {
   "cell_type": "markdown",
   "metadata": {},
   "source": [
    "## 線形演算"
   ]
  },
  {
   "cell_type": "code",
   "execution_count": 5,
   "metadata": {
    "ExecuteTime": {
     "end_time": "2016-04-14T17:30:35.733918",
     "start_time": "2016-04-14T17:30:35.723152"
    },
    "collapsed": false
   },
   "outputs": [
    {
     "name": "stdout",
     "output_type": "stream",
     "text": [
      "vec_a = [ 0.   0.1  0.2  0.3  0.4  0.5  0.6  0.7  0.8  0.9]\n",
      "vec_b = [ 0.   0.2  0.4  0.6  0.8  1.   1.2  1.4  1.6  1.8]\n",
      "vec_c = [ 0.   0.3  0.6  0.9  1.2  1.5  1.8  2.1  2.4  2.7]\n"
     ]
    }
   ],
   "source": [
    "# 和、差\n",
    "vec_a = np.arange(0, 1, 0.1)\n",
    "vec_b = np.arange(0, 2, 0.2)\n",
    "vec_c = vec_a + vec_b\n",
    "\n",
    "print 'vec_a =', vec_a\n",
    "print 'vec_b =', vec_b\n",
    "print 'vec_c =', vec_c"
   ]
  },
  {
   "cell_type": "code",
   "execution_count": 6,
   "metadata": {
    "ExecuteTime": {
     "end_time": "2016-04-14T17:31:03.276585",
     "start_time": "2016-04-14T17:31:03.265614"
    },
    "collapsed": false
   },
   "outputs": [
    {
     "name": "stdout",
     "output_type": "stream",
     "text": [
      "a dot b =  5.7\n"
     ]
    }
   ],
   "source": [
    "# 内積（ドット積）\n",
    "print \"a dot b = \", np.dot(vec_a, vec_b)"
   ]
  },
  {
   "cell_type": "code",
   "execution_count": 7,
   "metadata": {
    "ExecuteTime": {
     "end_time": "2016-04-14T17:31:32.249121",
     "start_time": "2016-04-14T17:31:32.242123"
    },
    "collapsed": false
   },
   "outputs": [
    {
     "name": "stdout",
     "output_type": "stream",
     "text": [
      "a * b =  [ 0.    0.02  0.08  0.18  0.32  0.5   0.72  0.98  1.28  1.62]\n"
     ]
    }
   ],
   "source": [
    "# 要素積\n",
    "print \"a * b = \", vec_a * vec_b"
   ]
  },
  {
   "cell_type": "code",
   "execution_count": 8,
   "metadata": {
    "ExecuteTime": {
     "end_time": "2016-04-14T17:33:25.325194",
     "start_time": "2016-04-14T17:33:25.308404"
    },
    "collapsed": false
   },
   "outputs": [
    {
     "name": "stdout",
     "output_type": "stream",
     "text": [
      "mat_c = \n",
      "[[ 0.7098218  -0.12500305 -0.21118774]\n",
      " [-0.78079864  0.47330276 -2.1775981 ]\n",
      " [-0.67046144  1.09486459  0.50351885]]\n",
      "inv_c = \n",
      "[[ 1.50426168 -0.09652577  0.21347225]\n",
      " [ 1.06296269  0.12379175  0.98120134]\n",
      " [-0.3083316  -0.39770508  0.13672241]]\n"
     ]
    }
   ],
   "source": [
    "# 逆行列\n",
    "mat_c = np.random.randn(3,3)\n",
    "print 'mat_c = '\n",
    "print mat_c\n",
    "\n",
    "inv_c = np.linalg.inv(mat_c)\n",
    "print 'inv_c = '\n",
    "print inv_c"
   ]
  },
  {
   "cell_type": "code",
   "execution_count": 9,
   "metadata": {
    "ExecuteTime": {
     "end_time": "2016-04-14T17:34:32.268191",
     "start_time": "2016-04-14T17:34:32.263929"
    },
    "collapsed": false
   },
   "outputs": [
    {
     "name": "stdout",
     "output_type": "stream",
     "text": [
      "solution :\n",
      "[-2.1288032  -2.60355377 -0.1804809 ]\n"
     ]
    }
   ],
   "source": [
    "# 線形方程式の解\n",
    "vec_c = np.random.randn(3)\n",
    "\n",
    "solution = np.linalg.solve(mat_c, vec_c)\n",
    "print 'solution :'\n",
    "print solution"
   ]
  },
  {
   "cell_type": "markdown",
   "metadata": {},
   "source": [
    "# 宿題"
   ]
  },
  {
   "cell_type": "markdown",
   "metadata": {},
   "source": [
    "## 多項式フィッティング"
   ]
  },
  {
   "cell_type": "markdown",
   "metadata": {},
   "source": [
    "以下のデータ［$x_i, y_i$］を、N次多項式で近似せよ。\n",
    "\n",
    "$N=1,3, 10$の結果と、データ点を重ねて描画せよ"
   ]
  },
  {
   "cell_type": "code",
   "execution_count": 15,
   "metadata": {
    "collapsed": false
   },
   "outputs": [],
   "source": [
    "%matplotlib inline\n",
    "import matplotlib.pyplot as plt"
   ]
  },
  {
   "cell_type": "code",
   "execution_count": 20,
   "metadata": {
    "collapsed": false
   },
   "outputs": [
    {
     "data": {
      "text/plain": [
       "[<matplotlib.lines.Line2D at 0x7fd16c388510>]"
      ]
     },
     "execution_count": 20,
     "metadata": {},
     "output_type": "execute_result"
    },
    {
     "data": {
      "image/png": "[encoded data removed]",
      "text/plain": [
       "<matplotlib.figure.Figure at 0x7fd16c5b6910>"
      ]
     },
     "metadata": {},
     "output_type": "display_data"
    }
   ],
   "source": [
    "x = np.linspace(0, 1.0, 20)\n",
    "y = np.sin(x*5.0) + np.random.randn(len(x))*0.1\n",
    "plt.plot(x, y, 'ro')"
   ]
  },
  {
   "cell_type": "markdown",
   "metadata": {},
   "source": [
    "# データの読み込み、描画"
   ]
  },
  {
   "cell_type": "markdown",
   "metadata": {},
   "source": [
    "## 数学的背景\n",
    "\n",
    "$N$次多項式$p(x)$ は以下のように表せる\n",
    "$$\n",
    "p(x) = \\sum_{j=0}^{N} c_j x^j\n",
    "$$\n",
    "\n",
    "${\\bf x}=\\{x_0, x_1, ..., x_i, ...\\}$ における多項式の値${\\bf p}$は、以下の行列で表せる\n",
    "\n",
    "$$\n",
    "{\\bf p} = \\Phi {\\bf c}\n",
    "$$\n",
    "\n",
    "ここで、$\\Phi_{i,j} = x_i^{\\;j}$、${\\bf c} = \\{c_0, c_1, ..., c_j, ..., c_N\\}$である。\n",
    "\n",
    "データ点 ${\\bf y}$ と、近似点 ${\\bf p}$ との差の二乗和${\\cal L}$\n",
    "$$\n",
    "{\\cal L} = \\sum_{i}{(y_i-p_i)^2} = |{\\bf y} - \\Phi {\\bf c}|^2\n",
    "$$\n",
    "\n",
    "を最小にする${\\bf c}$が、データ点を最も再現する多項式を作る。\n",
    "\n",
    "この${\\bf c}$は、$\\frac{\\mathrm{d}\\cal L}{\\mathrm{d}c} = 0$ を満たす。\n",
    "$$\n",
    "\\frac{\\mathrm{d}\\cal L}{\\mathrm{d}c} = -2 \\Phi^t ({\\bf y} - \\Phi {\\bf c}) = -2 (\\Phi^t {\\bf y} - \\Phi^t \\Phi {\\bf c})\n",
    "$$ \n",
    "ここから、\n",
    "$$\n",
    "{\\bf c} = (\\Phi^t \\Phi)^{-1}\\Phi^t {\\bf y}\n",
    "$$\n",
    "が求まる"
   ]
  },
  {
   "cell_type": "code",
   "execution_count": null,
   "metadata": {
    "collapsed": true
   },
   "outputs": [],
   "source": [
    "aaaaaaあああああああああ"
   ]
  }
 ],
 "metadata": {
  "kernelspec": {
   "display_name": "Python 2",
   "language": "python",
   "name": "python2"
  },
  "language_info": {
   "codemirror_mode": {
    "name": "ipython",
    "version": 2
   },
   "file_extension": ".py",
   "mimetype": "text/x-python",
   "name": "python",
   "nbconvert_exporter": "python",
   "pygments_lexer": "ipython2",
   "version": "2.7.11"
  },
  "latex_envs": {
   "bibliofile": "biblio.bib",
   "cite_by": "apalike",
   "current_citInitial": 1,
   "eqLabelWithNumbers": true,
   "eqNumInitial": 0
  },
  "toc": {
   "toc_cell": false,
   "toc_number_sections": true,
   "toc_threshold": 6,
   "toc_window_display": true
  }
 },
 "nbformat": 4,
 "nbformat_minor": 0
}
