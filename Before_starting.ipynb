{
 "cells": [
  {
   "cell_type": "markdown",
   "metadata": {},
   "source": [
    "# Note\n",
    "\n",
    "環境構築について\n",
    "\n",
    "1. Anaconda　(Python 他　科学計算用ライブラリ) のインストール"
   ]
  },
  {
   "cell_type": "markdown",
   "metadata": {},
   "source": [
    "# Anaconda のインストール"
   ]
  },
  {
   "cell_type": "markdown",
   "metadata": {},
   "source": [
    "https://www.continuum.io/downloads#_unix\n",
    "\n",
    "にアクセスし、\n",
    "$\\bf{PYTHON 2.7 64bit}$ \n",
    "をダウンロードする。\n",
    "\n",
    "homeディレクトリにAnaconda2ディレクトリを作成"
   ]
  },
  {
   "cell_type": "markdown",
   "metadata": {},
   "source": [
    "mkdir ~/Anaconda2\n",
    "\n",
    "mv [Anaconda2のパス] ~/Anaconda2/\n",
    "\n",
    "bash ~/Anaconda2/Anaconda2-4.0.0-Linux-x86_64.sh"
   ]
  },
  {
   "cell_type": "markdown",
   "metadata": {
    "collapsed": true
   },
   "source": [
    "ページの指示に沿ってインストールを行う。"
   ]
  },
  {
   "cell_type": "markdown",
   "metadata": {},
   "source": [
    "<img  src=\"KTNS6T88K0K6DY106ABT7RJHATNAQXWO.png\"/>"
   ]
  },
  {
   "cell_type": "markdown",
   "metadata": {},
   "source": [
    "最後にパスを追加するか聞かれるので\n",
    "Yes\n",
    "を選択する"
   ]
  },
  {
   "cell_type": "markdown",
   "metadata": {},
   "source": [
    "# SmartGit の導入\n",
    "\n",
    "http://xiangcai.at.webry.info/201604/article_5.html\n",
    "\n",
    "https://thjap.org/linux/ubuntu/6309.html\n",
    "\n",
    "を参考にして進める"
   ]
  },
  {
   "cell_type": "markdown",
   "metadata": {},
   "source": [
    "## SmartGit をダウンロード\n",
    "\n",
    "http://www.syntevo.com/smartgit/download"
   ]
  },
  {
   "cell_type": "markdown",
   "metadata": {},
   "source": [
    "<img  src=\"SQ7TNVEMDAT0C3N1NM8W22FSAR6MFWTX.png\"/>"
   ]
  },
  {
   "cell_type": "markdown",
   "metadata": {},
   "source": [
    "解凍\n",
    "\n",
    "tar -xvf Download/smartgit-linux-7_1_2.tar.gz "
   ]
  },
  {
   "cell_type": "markdown",
   "metadata": {},
   "source": [
    "<img  src=\"DJ77IWDC1QGVCKWVGLS8KOHRLK3DX1I2.png\"/>"
   ]
  },
  {
   "cell_type": "markdown",
   "metadata": {},
   "source": [
    "<img  src=\"DJ77IWDC1QGVCKWVGLS8KOHRLK3DX1I2.png\"/>"
   ]
  },
  {
   "cell_type": "markdown",
   "metadata": {
    "collapsed": true
   },
   "source": [
    "# 開発環境の準備"
   ]
  },
  {
   "cell_type": "markdown",
   "metadata": {},
   "source": [
    "## 作業ディレクトリの作成"
   ]
  },
  {
   "cell_type": "markdown",
   "metadata": {},
   "source": [
    "ホームディレクトリに適当なフォルダ(study/python/tutorials　など)を作成\n",
    "\n",
    "cd ~/\n",
    "\n",
    "mkdir -p study/python/tutorials"
   ]
  },
  {
   "cell_type": "markdown",
   "metadata": {
    "collapsed": true
   },
   "source": [
    "## チュートリアルのダウンロード （Pull）"
   ]
  },
  {
   "cell_type": "markdown",
   "metadata": {},
   "source": [
    "SmartGitを起動し、右上のRepository > Add or Create を選択\n",
    "\n",
    "先ほど作成したディレクトリを選択する"
   ]
  },
  {
   "cell_type": "markdown",
   "metadata": {},
   "source": [
    "<img  src=\"KR5EEGDLVUJFB6N5SAOGV9E8HTA8GRME.png\"/>"
   ]
  },
  {
   "cell_type": "markdown",
   "metadata": {},
   "source": [
    "作成したリポジトリを選択した状態で、右上のメニューからPULLを選択する"
   ]
  },
  {
   "cell_type": "markdown",
   "metadata": {},
   "source": [
    "<img  src=\"JRQI64ECMJ9D2EURRSU78CJQJLCIM440.png\"/>"
   ]
  },
  {
   "cell_type": "code",
   "execution_count": null,
   "metadata": {
    "collapsed": true
   },
   "outputs": [],
   "source": []
  },
  {
   "cell_type": "markdown",
   "metadata": {},
   "source": [
    "## Gitのインストール\n",
    "\n",
    "以下のコマンドを実行\n",
    "\n",
    "sudo apt-get install git"
   ]
  },
  {
   "cell_type": "markdown",
   "metadata": {},
   "source": [
    "## Gitのインストール\n",
    "\n",
    "以下のコマンドを実行\n",
    "\n",
    "sudo apt-get install git"
   ]
  }
 ],
 "metadata": {
  "kernelspec": {
   "display_name": "Python 2",
   "language": "python",
   "name": "python2"
  },
  "language_info": {
   "codemirror_mode": {
    "name": "ipython",
    "version": 2
   },
   "file_extension": ".py",
   "mimetype": "text/x-python",
   "name": "python",
   "nbconvert_exporter": "python",
   "pygments_lexer": "ipython2",
   "version": "2.7.11"
  },
  "latex_envs": {
   "bibliofile": "biblio.bib",
   "cite_by": "apalike",
   "current_citInitial": 1,
   "eqLabelWithNumbers": true,
   "eqNumInitial": 0
  },
  "toc": {
   "toc_cell": false,
   "toc_number_sections": true,
   "toc_threshold": 6,
   "toc_window_display": false
  }
 },
 "nbformat": 4,
 "nbformat_minor": 0
}
